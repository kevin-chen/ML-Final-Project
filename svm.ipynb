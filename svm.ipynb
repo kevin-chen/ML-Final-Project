{
  "cells": [
    {
      "cell_type": "code",
      "metadata": {
        "tags": [],
        "cell_id": "00000-580de377-6c7b-4ff7-9cc1-240b2a5fe41d",
        "deepnote_to_be_reexecuted": false,
        "source_hash": "d5379816",
        "execution_start": 1618801072177,
        "execution_millis": 2616,
        "deepnote_cell_type": "code"
      },
      "source": "%matplotlib inline\n\nimport pandas as pd\nimport numpy as np\nimport matplotlib\nfrom matplotlib import pyplot as plt\n\nfrom sklearn import preprocessing\nfrom sklearn.model_selection import train_test_split \nfrom sklearn.linear_model import LinearRegression, Ridge\nfrom sklearn import svm\n\nimport numpy.polynomial.polynomial as poly",
      "execution_count": null,
      "outputs": []
    },
    {
      "cell_type": "code",
      "metadata": {
        "tags": [],
        "cell_id": "00001-e0062fe3-271b-489e-b05a-99b4956b981a",
        "deepnote_to_be_reexecuted": false,
        "source_hash": "f8a9e25",
        "execution_millis": 1,
        "execution_start": 1618801235213,
        "deepnote_cell_type": "code"
      },
      "source": "def get_clean_data(file):\n    # Reads panadas dataframe\n    df = pd.read_csv(file)\n    # Convert datetime to a number\n    df['SALE DATE'] = pd.to_datetime(df['SALE DATE']).astype(np.int64)\n    # Drop other unneeded columns\n    data = df.drop(columns = [\"NEIGHBORHOOD\", \"APARTMENT NUMBER\", \"BUILDING CLASS CATEGORY\", \"TAX CLASS AT PRESENT\", \"BUILDING CLASS AT PRESENT\", \"EASE-MENT\", \"ADDRESS\", \"ZIP CODE\", \"BUILDING CLASS AT TIME OF SALE\", \"TOTAL UNITS\"])\n    # Drop other boroughs\n    # data = data[(data['BOROUGH'] != 1) & (data['BOROUGH'] != 2) & (data['BOROUGH'] != 5)]\n    data = data[(data['BOROUGH'] == 3) | (data['BOROUGH'] == 4)]\n    # Convert all other strings to int values\n    data = data.astype(int)\n    # print(x.info())\n    return data",
      "execution_count": null,
      "outputs": []
    },
    {
      "cell_type": "markdown",
      "source": "# SVM",
      "metadata": {
        "tags": [],
        "cell_id": "00003-6b6f284e-1675-4966-9a1b-baad618c7871",
        "deepnote_cell_type": "text-cell-h1"
      }
    },
    {
      "cell_type": "code",
      "metadata": {
        "tags": [],
        "cell_id": "00004-0f35d378-e3fe-4b1b-8219-415b251e0402",
        "deepnote_to_be_reexecuted": false,
        "source_hash": "f434bd94",
        "execution_start": 1618801081176,
        "execution_millis": 4,
        "deepnote_cell_type": "code"
      },
      "source": "def preprocess_normalize_data(df):\n    df_x_prescale = df[[\"BLOCK\",\"LOT\",\"RESIDENTIAL UNITS\",\"COMMERCIAL UNITS\",\"LAND SQUARE FEET\", \"GROSS SQUARE FEET\",\"YEAR BUILT\",\"TAX CLASS AT TIME OF SALE\",\"SALE PRICE\", \"SALE DATE\"]]\n    df_y = df[[\"BOROUGH\"]]\n    # print(df_x_prescale)\n\n    x_scaled_array = preprocessing.scale(df_x_prescale)\n    y_array = np.array(df_y)\n\n    df_z_scaled = df_x_prescale.copy()\n    # print(df_z_scaled)\n    # apply normalization technique to Sale Date\n    column = 'SALE DATE'\n    df_z_scaled[column] = (df_z_scaled[column] - df_z_scaled[column].mean()) / df_z_scaled[column].std()\n    # print(df_z_scaled)\n    \n    X_train, X_test, y_train, y_test = train_test_split(x_scaled_array, y_array, test_size = 0.8, train_size = 0.2)\n    return X_train, y_train",
      "execution_count": null,
      "outputs": []
    },
    {
      "cell_type": "code",
      "metadata": {
        "tags": [],
        "cell_id": "00004-5b520c0c-e7b9-4272-935a-1c9f3249099f",
        "deepnote_to_be_reexecuted": false,
        "source_hash": "ebd08f23",
        "execution_start": 1618801081955,
        "execution_millis": 3,
        "deepnote_cell_type": "code"
      },
      "source": "def train_SVM(X_train, y_train):\n    svm_model = svm.SVC(probability = False, kernel = 'linear', C = 100000000) # regular logistic regression, no regularization\n    svm_model.fit(X_train, y_train)\n    return svm_model.coef_, svm_model.intercept_, svm_model.score(X_train, y_train)",
      "execution_count": null,
      "outputs": []
    },
    {
      "cell_type": "code",
      "metadata": {
        "tags": [],
        "cell_id": "00005-1b3d46f5-a4a7-47fd-992e-d073bf58d04b",
        "deepnote_to_be_reexecuted": false,
        "source_hash": "783eb352",
        "execution_millis": 12060409,
        "execution_start": 1618801238677,
        "deepnote_cell_type": "code"
      },
      "source": "data = get_clean_data(\"cleaned_data.csv\")\n# print(data)\n# print(data.info(verbose=True))\n\n# X_train, y_train = no_feature_scaling(data)\n# X_train, y_train = preprocess_scale_data(data)\nX_train, y_train = preprocess_normalize_data(data)\n# X_train, y_train = preprocess_standard_scalar(data)\n\n# print(X_train)\n# print(y_train)\n\ncoef, inter, score = train_SVM(X_train, y_train)\nprint(\"Coefficients\", coef)\nprint(\"Intercept\", inter)\nprint(\"Score\", score)is ",
      "execution_count": null,
      "outputs": [
        {
          "name": "stderr",
          "text": "/shared-libs/python3.7/py/lib/python3.7/site-packages/sklearn/preprocessing/_data.py:194: UserWarning: Numerical issues were encountered when centering the data and might not be solved. Dataset may contain too large values. You may need to prescale your features.\n  warnings.warn(\"Numerical issues were encountered \"\n/shared-libs/python3.7/py/lib/python3.7/site-packages/sklearn/utils/validation.py:63: DataConversionWarning: A column-vector y was passed when a 1d array was expected. Please change the shape of y to (n_samples, ), for example using ravel().\n  return f(*args, **kwargs)\nCoefficients [[ 120.13902545 -143.80097198   55.70782465 1246.46281734  284.78840327\n    65.74696255  119.98168755 -107.56617546 -194.44481325    3.00286102]]\nIntercept [-130.82863892]\nScore 0.7437810945273632\n",
          "output_type": "stream"
        }
      ]
    },
    {
      "cell_type": "code",
      "metadata": {
        "tags": [],
        "cell_id": "00006-4d42ff55-2691-4d1b-98fc-2f4167962c5a",
        "deepnote_cell_type": "code"
      },
      "source": "",
      "execution_count": null,
      "outputs": []
    },
    {
      "cell_type": "markdown",
      "source": "<a style='text-decoration:none;line-height:16px;display:flex;color:#5B5B62;padding:10px;justify-content:end;' href='https://deepnote.com?utm_source=created-in-deepnote-cell&projectId=90fab6ac-739b-4c97-b68c-ff3c09208031' target=\"_blank\">\n<img alt='Created in deepnote.com' style='display:inline;max-height:16px;margin:0px;margin-right:7.5px;' src='data:image/svg+xml;base64,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' > </img>\nCreated in <span style='font-weight:600;margin-left:4px;'>Deepnote</span></a>",
      "metadata": {
        "tags": [],
        "created_in_deepnote_cell": true,
        "deepnote_cell_type": "markdown"
      }
    }
  ],
  "nbformat": 4,
  "nbformat_minor": 2,
  "metadata": {
    "orig_nbformat": 2,
    "deepnote": {
      "is_reactive": false
    },
    "deepnote_notebook_id": "f7697217-e546-48e3-927f-d2550eae1a63",
    "deepnote_execution_queue": []
  }
}