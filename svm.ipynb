{
  "cells": [
    {
      "cell_type": "code",
      "metadata": {
        "tags": [],
        "cell_id": "00000-580de377-6c7b-4ff7-9cc1-240b2a5fe41d",
        "deepnote_to_be_reexecuted": false,
        "source_hash": "d5379816",
        "execution_millis": 2390,
        "execution_start": 1618928407476,
        "deepnote_cell_type": "code"
      },
      "source": "%matplotlib inline\n\nimport pandas as pd\nimport numpy as np\nimport matplotlib\nfrom matplotlib import pyplot as plt\n\nfrom sklearn import preprocessing\nfrom sklearn.model_selection import train_test_split \nfrom sklearn.linear_model import LinearRegression, Ridge\nfrom sklearn import svm\n\nimport numpy.polynomial.polynomial as poly",
      "execution_count": 3,
      "outputs": []
    },
    {
      "cell_type": "code",
      "metadata": {
        "tags": [],
        "cell_id": "00001-e0062fe3-271b-489e-b05a-99b4956b981a",
        "deepnote_to_be_reexecuted": false,
        "source_hash": "f8a9e25",
        "execution_millis": 0,
        "execution_start": 1618928405817,
        "deepnote_cell_type": "code"
      },
      "source": "def get_clean_data(file):\n    # Reads panadas dataframe\n    df = pd.read_csv(file)\n    # Convert datetime to a number\n    df['SALE DATE'] = pd.to_datetime(df['SALE DATE']).astype(np.int64)\n    # Drop other unneeded columns\n    data = df.drop(columns = [\"NEIGHBORHOOD\", \"APARTMENT NUMBER\", \"BUILDING CLASS CATEGORY\", \"TAX CLASS AT PRESENT\", \"BUILDING CLASS AT PRESENT\", \"EASE-MENT\", \"ADDRESS\", \"ZIP CODE\", \"BUILDING CLASS AT TIME OF SALE\", \"TOTAL UNITS\"])\n    # Drop other boroughs\n    # data = data[(data['BOROUGH'] != 1) & (data['BOROUGH'] != 2) & (data['BOROUGH'] != 5)]\n    data = data[(data['BOROUGH'] == 3) | (data['BOROUGH'] == 4)]\n    # Convert all other strings to int values\n    data = data.astype(int)\n    # print(x.info())\n    return data",
      "execution_count": 2,
      "outputs": []
    },
    {
      "cell_type": "markdown",
      "source": "# SVM",
      "metadata": {
        "tags": [],
        "cell_id": "00003-6b6f284e-1675-4966-9a1b-baad618c7871",
        "deepnote_cell_type": "text-cell-h1"
      }
    },
    {
      "cell_type": "code",
      "metadata": {
        "tags": [],
        "cell_id": "00004-0f35d378-e3fe-4b1b-8219-415b251e0402",
        "deepnote_to_be_reexecuted": false,
        "source_hash": "f434bd94",
        "execution_millis": 0,
        "execution_start": 1618928409880,
        "deepnote_cell_type": "code"
      },
      "source": "def preprocess_normalize_data(df):\n    df_x_prescale = df[[\"BLOCK\",\"LOT\",\"RESIDENTIAL UNITS\",\"COMMERCIAL UNITS\",\"LAND SQUARE FEET\", \"GROSS SQUARE FEET\",\"YEAR BUILT\",\"TAX CLASS AT TIME OF SALE\",\"SALE PRICE\", \"SALE DATE\"]]\n    df_y = df[[\"BOROUGH\"]]\n    # print(df_x_prescale)\n\n    x_scaled_array = preprocessing.scale(df_x_prescale)\n    y_array = np.array(df_y)\n\n    df_z_scaled = df_x_prescale.copy()\n    # print(df_z_scaled)\n    # apply normalization technique to Sale Date\n    column = 'SALE DATE'\n    df_z_scaled[column] = (df_z_scaled[column] - df_z_scaled[column].mean()) / df_z_scaled[column].std()\n    # print(df_z_scaled)\n    \n    X_train, X_test, y_train, y_test = train_test_split(x_scaled_array, y_array, test_size = 0.8, train_size = 0.2)\n    return X_train, y_train",
      "execution_count": 4,
      "outputs": []
    },
    {
      "cell_type": "code",
      "metadata": {
        "tags": [],
        "cell_id": "00004-5b520c0c-e7b9-4272-935a-1c9f3249099f",
        "deepnote_to_be_reexecuted": false,
        "source_hash": "ebd08f23",
        "execution_start": 1618801081955,
        "execution_millis": 3,
        "deepnote_cell_type": "code"
      },
      "source": "def train_SVM(X_train, y_train):\n    svm_model = svm.SVC(probability = False, kernel = 'linear', C = 100000000) # regular logistic regression, no regularization\n    svm_model.fit(X_train, y_train)\n    return svm_model.coef_, svm_model.intercept_, svm_model.score(X_train, y_train)",
      "execution_count": null,
      "outputs": []
    },
    {
      "cell_type": "code",
      "metadata": {
        "tags": [],
        "cell_id": "00005-1b3d46f5-a4a7-47fd-992e-d073bf58d04b",
        "deepnote_to_be_reexecuted": false,
        "source_hash": "783eb352",
        "execution_millis": 12060409,
        "execution_start": 1618801238677,
        "deepnote_cell_type": "code"
      },
      "source": "data = get_clean_data(\"cleaned_data.csv\")\n# print(data)\n# print(data.info(verbose=True))\n\n# X_train, y_train = no_feature_scaling(data)\n# X_train, y_train = preprocess_scale_data(data)\nX_train, y_train = preprocess_normalize_data(data)\n# X_train, y_train = preprocess_standard_scalar(data)\n\n# print(X_train)\n# print(y_train)\n\ncoef, inter, score = train_SVM(X_train, y_train)\nprint(\"Coefficients\", coef)\nprint(\"Intercept\", inter)\nprint(\"Score\", score)is ",
      "execution_count": null,
      "outputs": [
        {
          "name": "stderr",
          "text": "/shared-libs/python3.7/py/lib/python3.7/site-packages/sklearn/preprocessing/_data.py:194: UserWarning: Numerical issues were encountered when centering the data and might not be solved. Dataset may contain too large values. You may need to prescale your features.\n  warnings.warn(\"Numerical issues were encountered \"\n/shared-libs/python3.7/py/lib/python3.7/site-packages/sklearn/utils/validation.py:63: DataConversionWarning: A column-vector y was passed when a 1d array was expected. Please change the shape of y to (n_samples, ), for example using ravel().\n  return f(*args, **kwargs)\nCoefficients [[ 120.13902545 -143.80097198   55.70782465 1246.46281734  284.78840327\n    65.74696255  119.98168755 -107.56617546 -194.44481325    3.00286102]]\nIntercept [-130.82863892]\nScore 0.7437810945273632\n",
          "output_type": "stream"
        }
      ]
    },
    {
      "cell_type": "markdown",
      "source": "# Degree 2 Polynomial Feature Transformation",
      "metadata": {
        "tags": [],
        "cell_id": "00006-051ceae2-c53d-44de-940a-d258bae408a8",
        "deepnote_cell_type": "text-cell-h1"
      }
    },
    {
      "cell_type": "code",
      "metadata": {
        "tags": [],
        "cell_id": "00007-ad9e2809-58f2-4605-9a6a-79615c50aeb3",
        "deepnote_to_be_reexecuted": false,
        "source_hash": "1bc37af5",
        "execution_millis": 1,
        "execution_start": 1618857034699,
        "deepnote_cell_type": "code"
      },
      "source": "def poly_SVM(X_train, y_train):\n    svm_model = svm.SVC(probability = False, kernel = 'poly', degree=2, C = 100000000) # regular logistic regression, no regularization\n    svm_model.fit(X_train, y_train)\n    return svm_model.score(X_train, y_train)",
      "execution_count": null,
      "outputs": []
    },
    {
      "cell_type": "code",
      "metadata": {
        "tags": [],
        "cell_id": "00008-f4d1c8dc-21fa-4585-a6b5-b6e391e8e29e",
        "deepnote_to_be_reexecuted": false,
        "source_hash": "c9222e6d",
        "execution_millis": 36671146,
        "execution_start": 1618857036546,
        "deepnote_cell_type": "code"
      },
      "source": "data = get_clean_data(\"cleaned_data.csv\")\nX_train, y_train = preprocess_normalize_data(data)\n\nscore = poly_SVM(X_train, y_train)\nprint(\"Score\", score)",
      "execution_count": null,
      "outputs": [
        {
          "name": "stderr",
          "text": "/shared-libs/python3.7/py/lib/python3.7/site-packages/sklearn/preprocessing/_data.py:194: UserWarning: Numerical issues were encountered when centering the data and might not be solved. Dataset may contain too large values. You may need to prescale your features.\n  warnings.warn(\"Numerical issues were encountered \"\n/shared-libs/python3.7/py/lib/python3.7/site-packages/sklearn/utils/validation.py:63: DataConversionWarning: A column-vector y was passed when a 1d array was expected. Please change the shape of y to (n_samples, ), for example using ravel().\n  return f(*args, **kwargs)\nScore 0.838691159586682\n",
          "output_type": "stream"
        }
      ]
    },
    {
      "cell_type": "markdown",
      "source": "# RBF Feature Transformation",
      "metadata": {
        "tags": [],
        "cell_id": "00009-71827a93-3007-45fb-ab0f-197c218c2653",
        "deepnote_cell_type": "text-cell-h1"
      }
    },
    {
      "cell_type": "code",
      "source": "def rbf_SVM(X_train, y_train):\n    svcrbf = svm.SVC(probability=False, kernel=\"rbf\", C=2.8, gamma=.0073,verbose=10)\n    svcrbf.fit(X_train, y_train)\n    return svcrbf.score(X_train, y_train)",
      "metadata": {
        "tags": [],
        "cell_id": "00010-9a908f2f-6e67-4cb6-88e5-1bb22f02952f",
        "deepnote_to_be_reexecuted": false,
        "source_hash": "d2faeaea",
        "execution_millis": 16,
        "execution_start": 1618921960251,
        "deepnote_cell_type": "code"
      },
      "outputs": [],
      "execution_count": null
    },
    {
      "cell_type": "code",
      "source": "data = get_clean_data(\"cleaned_data.csv\")\nX_train, y_train = preprocess_normalize_data(data)\n\nscore = rbf_SVM(X_train, y_train)\nprint(\"Score\", score)",
      "metadata": {
        "tags": [],
        "cell_id": "00011-56119826-f200-4023-804a-c7c7089ab5ec",
        "deepnote_to_be_reexecuted": false,
        "source_hash": "17b24f0",
        "execution_millis": 4130,
        "execution_start": 1618921960607,
        "deepnote_cell_type": "code"
      },
      "outputs": [
        {
          "name": "stderr",
          "text": "/shared-libs/python3.7/py/lib/python3.7/site-packages/sklearn/preprocessing/_data.py:194: UserWarning: Numerical issues were encountered when centering the data and might not be solved. Dataset may contain too large values. You may need to prescale your features.\n  warnings.warn(\"Numerical issues were encountered \"\n/shared-libs/python3.7/py/lib/python3.7/site-packages/sklearn/utils/validation.py:63: DataConversionWarning: A column-vector y was passed when a 1d array was expected. Please change the shape of y to (n_samples, ), for example using ravel().\n  return f(*args, **kwargs)\n[LibSVM]Score 0.7682740145426713\n",
          "output_type": "stream"
        }
      ],
      "execution_count": null
    },
    {
      "cell_type": "markdown",
      "source": "# Ridge Regularization",
      "metadata": {
        "tags": [],
        "cell_id": "00010-437d78d4-deae-472f-a9bd-c1cf0e7a37b5",
        "deepnote_cell_type": "text-cell-h1"
      }
    },
    {
      "cell_type": "code",
      "metadata": {
        "tags": [],
        "cell_id": "00010-91c66e45-d0fb-43b0-b9b5-b4b31907ec7e",
        "deepnote_to_be_reexecuted": false,
        "source_hash": "bc976388",
        "execution_millis": 31,
        "execution_start": 1618919033609,
        "deepnote_cell_type": "code"
      },
      "source": "def ridge_regularization(X_train, y_train, alpha):\n    c = 1 /alpha\n    svm_model = svm.SVC(probability = False, kernel = 'poly', C = c) # regular logistic regression, no regularization\n    svm_model.fit(X_train, y_train)\n    return svm_model.score(X_train, y_train)",
      "outputs": [],
      "execution_count": null
    },
    {
      "cell_type": "code",
      "metadata": {
        "tags": [],
        "cell_id": "00011-c971d33a-97df-4b8c-8032-445b193a0ffd",
        "deepnote_to_be_reexecuted": false,
        "source_hash": "34738141",
        "execution_millis": 2378,
        "execution_start": 1618919034194,
        "deepnote_cell_type": "code"
      },
      "source": "data = get_clean_data(\"cleaned_data.csv\")\nX_train, y_train = preprocess_normalize_data(data)\nscore = ridge_regularization(X_train, y_train, 0.5)\nprint(\"Score\", score)",
      "outputs": [
        {
          "name": "stderr",
          "text": "/shared-libs/python3.7/py/lib/python3.7/site-packages/sklearn/preprocessing/_data.py:194: UserWarning: Numerical issues were encountered when centering the data and might not be solved. Dataset may contain too large values. You may need to prescale your features.\n  warnings.warn(\"Numerical issues were encountered \"\n/shared-libs/python3.7/py/lib/python3.7/site-packages/sklearn/utils/validation.py:63: DataConversionWarning: A column-vector y was passed when a 1d array was expected. Please change the shape of y to (n_samples, ), for example using ravel().\n  return f(*args, **kwargs)\nScore 0.7644469957902794\n",
          "output_type": "stream"
        }
      ],
      "execution_count": null
    },
    {
      "cell_type": "code",
      "source": "def ridge_regularization_linear(X_train, y_train, alpha):\n    c = 1 /alpha\n    svm_model = svm.SVC(probability = False, kernel = 'linear', C = c) # regular logistic regression, no regularization\n    svm_model.fit(X_train, y_train)\n    return svm_model.score(X_train, y_train)",
      "metadata": {
        "tags": [],
        "cell_id": "00016-f6451e44-4d50-4891-835b-81ab7fb4067b",
        "deepnote_to_be_reexecuted": false,
        "source_hash": "5f6465f8",
        "execution_millis": 16,
        "execution_start": 1618928417682,
        "deepnote_cell_type": "code"
      },
      "outputs": [],
      "execution_count": 6
    },
    {
      "cell_type": "code",
      "source": "data = get_clean_data(\"cleaned_data.csv\")\nX_train, y_train = preprocess_normalize_data(data)\nscore = ridge_regularization_linear(X_train, y_train, 0.5)\nprint(\"Score\", score)",
      "metadata": {
        "tags": [],
        "cell_id": "00017-cd387bf9-4373-422f-8775-263c642ee98c",
        "deepnote_to_be_reexecuted": false,
        "source_hash": "7a697260",
        "execution_start": 1618921997172,
        "execution_millis": 2660,
        "deepnote_cell_type": "code"
      },
      "outputs": [
        {
          "name": "stderr",
          "text": "/shared-libs/python3.7/py/lib/python3.7/site-packages/sklearn/preprocessing/_data.py:194: UserWarning: Numerical issues were encountered when centering the data and might not be solved. Dataset may contain too large values. You may need to prescale your features.\n  warnings.warn(\"Numerical issues were encountered \"\n/shared-libs/python3.7/py/lib/python3.7/site-packages/sklearn/utils/validation.py:63: DataConversionWarning: A column-vector y was passed when a 1d array was expected. Please change the shape of y to (n_samples, ), for example using ravel().\n  return f(*args, **kwargs)\nScore 0.7552621507845388\n",
          "output_type": "stream"
        }
      ],
      "execution_count": null
    },
    {
      "cell_type": "code",
      "source": "data = get_clean_data(\"cleaned_data.csv\")\nX_train, y_train = preprocess_normalize_data(data)\nridge_alpha_space = np.linspace(0,1,11)\nfor i in ridge_alpha_space:\n    score = ridge_regularization_linear(X_train, y_train, i)\n    # print(\"Coefficients\", coef)\n    # print(\"Intercept\", inter)\n    print(\"Alpha\", i, \"Score\", score)",
      "metadata": {
        "tags": [],
        "cell_id": "00018-634fa2d9-079c-49c4-9bce-813297e589f1",
        "deepnote_to_be_reexecuted": false,
        "source_hash": "c3005855",
        "output_cleared": false,
        "execution_millis": 428,
        "execution_start": 1618928419404,
        "deepnote_cell_type": "code"
      },
      "outputs": [
        {
          "name": "stderr",
          "text": "/shared-libs/python3.7/py/lib/python3.7/site-packages/sklearn/preprocessing/_data.py:194: UserWarning: Numerical issues were encountered when centering the data and might not be solved. Dataset may contain too large values. You may need to prescale your features.\n  warnings.warn(\"Numerical issues were encountered \"\n/shared-libs/python3.7/py-core/lib/python3.7/site-packages/ipykernel_launcher.py:2: RuntimeWarning: divide by zero encountered in double_scalars\n  \n/shared-libs/python3.7/py/lib/python3.7/site-packages/sklearn/utils/validation.py:63: DataConversionWarning: A column-vector y was passed when a 1d array was expected. Please change the shape of y to (n_samples, ), for example using ravel().\n  return f(*args, **kwargs)\n",
          "output_type": "stream"
        }
      ],
      "execution_count": 5
    },
    {
      "cell_type": "code",
      "source": "",
      "metadata": {
        "tags": [],
        "cell_id": "00018-3900d77c-c8fc-4db4-806b-1a1a45303a1f",
        "deepnote_cell_type": "code"
      },
      "outputs": [],
      "execution_count": null
    },
    {
      "cell_type": "markdown",
      "source": "<a style='text-decoration:none;line-height:16px;display:flex;color:#5B5B62;padding:10px;justify-content:end;' href='https://deepnote.com?utm_source=created-in-deepnote-cell&projectId=90fab6ac-739b-4c97-b68c-ff3c09208031' target=\"_blank\">\n<img alt='Created in deepnote.com' style='display:inline;max-height:16px;margin:0px;margin-right:7.5px;' src='data:image/svg+xml;base64,PD94bWwgdmVyc2lvbj0iMS4wIiBlbmNvZGluZz0iVVRGLTgiPz4KPHN2ZyB3aWR0aD0iODBweCIgaGVpZ2h0PSI4MHB4IiB2aWV3Qm94PSIwIDAgODAgODAiIHZlcnNpb249IjEuMSIgeG1sbnM9Imh0dHA6Ly93d3cudzMub3JnLzIwMDAvc3ZnIiB4bWxuczp4bGluaz0iaHR0cDovL3d3dy53My5vcmcvMTk5OS94bGluayI+CiAgICA8IS0tIEdlbmVyYXRvcjogU2tldGNoIDU0LjEgKDc2NDkwKSAtIGh0dHBzOi8vc2tldGNoYXBwLmNvbSAtLT4KICAgIDx0aXRsZT5Hcm91cCAzPC90aXRsZT4KICAgIDxkZXNjPkNyZWF0ZWQgd2l0aCBTa2V0Y2guPC9kZXNjPgogICAgPGcgaWQ9IkxhbmRpbmciIHN0cm9rZT0ibm9uZSIgc3Ryb2tlLXdpZHRoPSIxIiBmaWxsPSJub25lIiBmaWxsLXJ1bGU9ImV2ZW5vZGQiPgogICAgICAgIDxnIGlkPSJBcnRib2FyZCIgdHJhbnNmb3JtPSJ0cmFuc2xhdGUoLTEyMzUuMDAwMDAwLCAtNzkuMDAwMDAwKSI+CiAgICAgICAgICAgIDxnIGlkPSJHcm91cC0zIiB0cmFuc2Zvcm09InRyYW5zbGF0ZSgxMjM1LjAwMDAwMCwgNzkuMDAwMDAwKSI+CiAgICAgICAgICAgICAgICA8cG9seWdvbiBpZD0iUGF0aC0yMCIgZmlsbD0iIzAyNjVCNCIgcG9pbnRzPSIyLjM3NjIzNzYyIDgwIDM4LjA0NzY2NjcgODAgNTcuODIxNzgyMiA3My44MDU3NTkyIDU3LjgyMTc4MjIgMzIuNzU5MjczOSAzOS4xNDAyMjc4IDMxLjY4MzE2ODMiPjwvcG9seWdvbj4KICAgICAgICAgICAgICAgIDxwYXRoIGQ9Ik0zNS4wMDc3MTgsODAgQzQyLjkwNjIwMDcsNzYuNDU0OTM1OCA0Ny41NjQ5MTY3LDcxLjU0MjI2NzEgNDguOTgzODY2LDY1LjI2MTk5MzkgQzUxLjExMjI4OTksNTUuODQxNTg0MiA0MS42NzcxNzk1LDQ5LjIxMjIyODQgMjUuNjIzOTg0Niw0OS4yMTIyMjg0IEMyNS40ODQ5Mjg5LDQ5LjEyNjg0NDggMjkuODI2MTI5Niw0My4yODM4MjQ4IDM4LjY0NzU4NjksMzEuNjgzMTY4MyBMNzIuODcxMjg3MSwzMi41NTQ0MjUgTDY1LjI4MDk3Myw2Ny42NzYzNDIxIEw1MS4xMTIyODk5LDc3LjM3NjE0NCBMMzUuMDA3NzE4LDgwIFoiIGlkPSJQYXRoLTIyIiBmaWxsPSIjMDAyODY4Ij48L3BhdGg+CiAgICAgICAgICAgICAgICA8cGF0aCBkPSJNMCwzNy43MzA0NDA1IEwyNy4xMTQ1MzcsMC4yNTcxMTE0MzYgQzYyLjM3MTUxMjMsLTEuOTkwNzE3MDEgODAsMTAuNTAwMzkyNyA4MCwzNy43MzA0NDA1IEM4MCw2NC45NjA0ODgyIDY0Ljc3NjUwMzgsNzkuMDUwMzQxNCAzNC4zMjk1MTEzLDgwIEM0Ny4wNTUzNDg5LDc3LjU2NzA4MDggNTMuNDE4MjY3Nyw3MC4zMTM2MTAzIDUzLjQxODI2NzcsNTguMjM5NTg4NSBDNTMuNDE4MjY3Nyw0MC4xMjg1NTU3IDM2LjMwMzk1NDQsMzcuNzMwNDQwNSAyNS4yMjc0MTcsMzcuNzMwNDQwNSBDMTcuODQzMDU4NiwzNy43MzA0NDA1IDkuNDMzOTE5NjYsMzcuNzMwNDQwNSAwLDM3LjczMDQ0MDUgWiIgaWQ9IlBhdGgtMTkiIGZpbGw9IiMzNzkzRUYiPjwvcGF0aD4KICAgICAgICAgICAgPC9nPgogICAgICAgIDwvZz4KICAgIDwvZz4KPC9zdmc+' > </img>\nCreated in <span style='font-weight:600;margin-left:4px;'>Deepnote</span></a>",
      "metadata": {
        "tags": [],
        "created_in_deepnote_cell": true,
        "deepnote_cell_type": "markdown"
      }
    }
  ],
  "nbformat": 4,
  "nbformat_minor": 2,
  "metadata": {
    "orig_nbformat": 2,
    "deepnote": {
      "is_reactive": false
    },
    "deepnote_notebook_id": "f7697217-e546-48e3-927f-d2550eae1a63",
    "deepnote_execution_queue": [
      {
        "cellId": "00018-634fa2d9-079c-49c4-9bce-813297e589f1",
        "sessionId": "a4aebdde-ebe4-4e32-9ad2-dffda9fd6f14",
        "msgId": "4eafc60c-900e-4b57-ab2d-30ea23a046d6"
      }
    ]
  }
}