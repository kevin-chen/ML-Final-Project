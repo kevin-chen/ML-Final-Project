{
  "cells": [
    {
      "cell_type": "code",
      "metadata": {
        "tags": [],
        "cell_id": "00000-7a6e2b1d-94cf-4a7a-8998-8a75e6982480",
        "deepnote_to_be_reexecuted": false,
        "source_hash": "8f9e3e0e",
        "execution_millis": 1698,
        "execution_start": 1618927885088,
        "deepnote_cell_type": "code"
      },
      "source": "%matplotlib inline\n\nimport pandas as pd\nimport numpy as np\nimport matplotlib\nfrom matplotlib import pyplot as plt\n\nfrom sklearn import preprocessing\nfrom sklearn.model_selection import train_test_split \nfrom sklearn.linear_model import LogisticRegression, Ridge\n\nimport numpy.polynomial.polynomial as poly",
      "outputs": [],
      "execution_count": null
    },
    {
      "cell_type": "code",
      "metadata": {
        "tags": [],
        "cell_id": "00001-b177df45-a3bf-447b-b820-c1d12f700db9",
        "deepnote_to_be_reexecuted": false,
        "source_hash": "f8a9e25",
        "execution_millis": 0,
        "execution_start": 1618927886786,
        "deepnote_cell_type": "code"
      },
      "source": "def get_clean_data(file):\n    # Reads panadas dataframe\n    df = pd.read_csv(file)\n    # Convert datetime to a number\n    df['SALE DATE'] = pd.to_datetime(df['SALE DATE']).astype(np.int64)\n    # Drop other unneeded columns\n    data = df.drop(columns = [\"NEIGHBORHOOD\", \"APARTMENT NUMBER\", \"BUILDING CLASS CATEGORY\", \"TAX CLASS AT PRESENT\", \"BUILDING CLASS AT PRESENT\", \"EASE-MENT\", \"ADDRESS\", \"ZIP CODE\", \"BUILDING CLASS AT TIME OF SALE\", \"TOTAL UNITS\"])\n    # Drop other boroughs\n    # data = data[(data['BOROUGH'] != 1) & (data['BOROUGH'] != 2) & (data['BOROUGH'] != 5)]\n    data = data[(data['BOROUGH'] == 3) | (data['BOROUGH'] == 4)]\n    # Convert all other strings to int values\n    data = data.astype(int)\n    # print(x.info())\n    return data",
      "outputs": [],
      "execution_count": null
    },
    {
      "cell_type": "code",
      "metadata": {
        "tags": [],
        "cell_id": "00002-c0b6b67a-3918-4724-a42d-a880a163c655",
        "deepnote_to_be_reexecuted": false,
        "source_hash": "f434bd94",
        "execution_millis": 21,
        "execution_start": 1618927889156,
        "deepnote_cell_type": "code"
      },
      "source": "def preprocess_normalize_data(df):\n    df_x_prescale = df[[\"BLOCK\",\"LOT\",\"RESIDENTIAL UNITS\",\"COMMERCIAL UNITS\",\"LAND SQUARE FEET\", \"GROSS SQUARE FEET\",\"YEAR BUILT\",\"TAX CLASS AT TIME OF SALE\",\"SALE PRICE\", \"SALE DATE\"]]\n    df_y = df[[\"BOROUGH\"]]\n    # print(df_x_prescale)\n\n    x_scaled_array = preprocessing.scale(df_x_prescale)\n    y_array = np.array(df_y)\n\n    df_z_scaled = df_x_prescale.copy()\n    # print(df_z_scaled)\n    # apply normalization technique to Sale Date\n    column = 'SALE DATE'\n    df_z_scaled[column] = (df_z_scaled[column] - df_z_scaled[column].mean()) / df_z_scaled[column].std()\n    # print(df_z_scaled)\n    \n    X_train, X_test, y_train, y_test = train_test_split(x_scaled_array, y_array, test_size = 0.8, train_size = 0.2)\n    return X_train, y_train",
      "outputs": [],
      "execution_count": null
    },
    {
      "cell_type": "markdown",
      "source": "# Regular Logistic Regression",
      "metadata": {
        "tags": [],
        "cell_id": "00002-f9686363-33c1-4719-a52a-a6f7c7370777",
        "deepnote_cell_type": "text-cell-h1"
      }
    },
    {
      "cell_type": "code",
      "metadata": {
        "tags": [],
        "cell_id": "00004-44686375-2b69-4f71-9995-875208df0fce",
        "deepnote_to_be_reexecuted": false,
        "source_hash": "ef316646",
        "execution_millis": 3,
        "execution_start": 1618927899217,
        "deepnote_cell_type": "code"
      },
      "source": "def train_logistic(X_train, y_train):\n    logreg = LogisticRegression(C = 100000000) # regular logistic regression, no regularization\n    logreg.fit(X_train, y_train)\n    return logreg.coef_, logreg.intercept_, logreg.score(X_train, y_train)",
      "outputs": [],
      "execution_count": null
    },
    {
      "cell_type": "code",
      "metadata": {
        "tags": [],
        "cell_id": "00005-4ddf48b9-d4da-4baa-afcf-1fdfbc1a47e3",
        "deepnote_to_be_reexecuted": false,
        "source_hash": "cd0d09b",
        "execution_millis": 369,
        "execution_start": 1618927899713,
        "deepnote_cell_type": "code"
      },
      "source": "data = get_clean_data(\"cleaned_data.csv\")\n# print(data)\n# print(data.info(verbose=True))\n\n# X_train, y_train = no_feature_scaling(data)\n# X_train, y_train = preprocess_scale_data(data)\nX_train, y_train = preprocess_normalize_data(data)\n# X_train, y_train = preprocess_standard_scalar(data)\n\n# print(X_train)\n# print(y_train)\n\ncoef, inter, score = train_logistic(X_train, y_train)\nprint(\"Coefficients\", coef)\nprint(\"Intercept\", inter)\nprint(\"Score\", score)",
      "outputs": [
        {
          "name": "stdout",
          "text": "Coefficients [[ 9.50880458e-01 -1.44402694e+00  4.85175815e-01  5.11669711e+00\n   4.05724729e-01 -8.82870072e-01  2.20630365e+00 -5.51493602e-01\n   8.38500332e-02  4.26622461e-03]]\nIntercept [-1.33855231]\nScore 0.736318407960199\n/shared-libs/python3.7/py/lib/python3.7/site-packages/sklearn/preprocessing/_data.py:194: UserWarning: Numerical issues were encountered when centering the data and might not be solved. Dataset may contain too large values. You may need to prescale your features.\n  warnings.warn(\"Numerical issues were encountered \"\n/shared-libs/python3.7/py/lib/python3.7/site-packages/sklearn/utils/validation.py:63: DataConversionWarning: A column-vector y was passed when a 1d array was expected. Please change the shape of y to (n_samples, ), for example using ravel().\n  return f(*args, **kwargs)\n",
          "output_type": "stream"
        }
      ],
      "execution_count": null
    },
    {
      "cell_type": "markdown",
      "source": "# Polynomial Feature Transformation",
      "metadata": {
        "tags": [],
        "cell_id": "00006-56495a76-0f2c-4b0f-ba7d-3bfa4c92c9fa",
        "deepnote_cell_type": "text-cell-h1"
      }
    },
    {
      "cell_type": "code",
      "metadata": {
        "tags": [],
        "cell_id": "00006-d33fefc9-20e2-4419-82ae-d43d7fd4d18f",
        "deepnote_to_be_reexecuted": false,
        "source_hash": "12259158",
        "execution_start": 1618701127331,
        "execution_millis": 1,
        "deepnote_cell_type": "code"
      },
      "source": "def polynomial_regression(X_train, y_train, degree):\n    poly_features = preprocessing.PolynomialFeatures(degree = degree, include_bias = False)\n    print(X_train)\n    X_poly = poly_features.fit_transform(X_train)\n    return X_poly",
      "execution_count": null,
      "outputs": []
    },
    {
      "cell_type": "code",
      "metadata": {
        "tags": [],
        "cell_id": "00007-af3ff672-212c-4589-8dcc-59427b521703",
        "deepnote_to_be_reexecuted": false,
        "source_hash": "11bcf35a",
        "execution_millis": 242,
        "execution_start": 1618701189210,
        "deepnote_cell_type": "code"
      },
      "source": "data = get_clean_data(\"cleaned_data.csv\")\nX_train, y_train = preprocess_normalize_data(data)\nX_poly = polynomial_regression(X_train, y_train, 2)\n# X_poly = polynomial_regression2(X_train, y_train)\ncoef, inter, score = train_logistic(X_poly, y_train)\nprint(\"Coefficients\", coef)\nprint(\"Intercept\", inter)\nprint(\"Score\", score)",
      "execution_count": null,
      "outputs": [
        {
          "name": "stderr",
          "text": "/shared-libs/python3.7/py/lib/python3.7/site-packages/sklearn/preprocessing/_data.py:194: UserWarning: Numerical issues were encountered when centering the data and might not be solved. Dataset may contain too large values. You may need to prescale your features.\n  warnings.warn(\"Numerical issues were encountered \"\n/shared-libs/python3.7/py/lib/python3.7/site-packages/sklearn/utils/validation.py:63: DataConversionWarning: A column-vector y was passed when a 1d array was expected. Please change the shape of y to (n_samples, ), for example using ravel().\n  return f(*args, **kwargs)\n/shared-libs/python3.7/py/lib/python3.7/site-packages/sklearn/linear_model/_logistic.py:765: ConvergenceWarning: lbfgs failed to converge (status=1):\nSTOP: TOTAL NO. of ITERATIONS REACHED LIMIT.\n\nIncrease the number of iterations (max_iter) or scale the data as shown in:\n    https://scikit-learn.org/stable/modules/preprocessing.html\nPlease also refer to the documentation for alternative solver options:\n    https://scikit-learn.org/stable/modules/linear_model.html#logistic-regression\n  extra_warning_msg=_LOGISTIC_SOLVER_CONVERGENCE_MSG)\n[[ 1.02405612e+00 -4.27306904e-01 -6.94127163e-02 ... -5.82562547e-01\n  -1.29400880e-01  7.37536948e-01]\n [ 4.67694342e-01 -3.72052178e-01 -6.94127163e-02 ... -5.82562547e-01\n   2.35039097e-01  1.11991542e+00]\n [ 7.44740826e-01  5.67723518e+00 -1.44045808e-01 ...  3.53036575e+00\n  -2.30684167e-01  1.11991542e+00]\n ...\n [ 2.88458628e-01 -5.02453331e-01  5.22037544e-03 ... -5.82562547e-01\n  -1.22674880e-02  5.88151611e-02]\n [ 3.73412827e-01  5.89014444e-03 -1.44045808e-01 ...  3.53036575e+00\n   4.37380848e-01  3.36039553e-01]\n [-8.73926576e-01  1.72099683e+00 -6.94127163e-02 ...  7.88413554e-01\n   8.55310251e-02  7.47096410e-01]]\nCoefficients [[ 1.56689661e+00 -2.11879524e+00  5.97679946e-01 -2.45556980e-01\n   1.70280583e+01 -1.83674183e+00  6.91939935e+00 -1.65574902e+00\n  -1.93593263e+00  4.13055262e-01  1.91157533e+00  6.63520646e-01\n   2.42054747e-01  1.92366502e-01 -3.52890186e+00  2.68109591e-01\n  -3.74485998e+00  3.20068680e-01  8.90925963e-01  1.61146509e-01\n  -5.32739423e-01  7.64305959e-01  2.62708288e-01 -6.06395001e+00\n   2.48138888e+00  2.00050722e+00 -7.28734669e-01  2.58331209e+00\n   9.13821888e-02  1.51677783e+00 -2.81331520e-01  3.02922438e-01\n  -3.79255892e+00 -2.77856618e+00  3.16459555e+00  6.81849692e-01\n   3.79850876e-01  7.32383624e-01 -1.36921338e-01 -5.25217766e-01\n   1.12348365e-02  7.36933518e-01 -2.33806248e-01  7.50460264e-01\n  -2.92638839e-01 -6.83215611e-02  4.52141559e+00 -6.77700574e+00\n   1.00786578e+00 -2.40499836e+00 -1.13254201e+00 -2.02745288e+00\n   8.90650584e-01  9.59849544e-01  2.10672787e-01  7.03035399e-01\n  -1.34637150e+00 -1.91780792e-01 -1.60063256e+00  6.57681225e-01\n   1.03902905e+00 -4.50539555e-02 -1.82216416e-01  1.88117638e-01\n   3.32288039e-02]]\nIntercept [-4.39668308]\nScore 0.8430922311519327\n",
          "output_type": "stream"
        }
      ]
    },
    {
      "cell_type": "markdown",
      "source": "# Ridge Regularization",
      "metadata": {
        "tags": [],
        "cell_id": "00009-04f57676-fa9c-4637-9674-f31882d20d45",
        "deepnote_cell_type": "text-cell-h1"
      }
    },
    {
      "cell_type": "code",
      "metadata": {
        "tags": [],
        "cell_id": "00008-1e3a76aa-381c-426f-9e1a-59a75258f562",
        "deepnote_to_be_reexecuted": false,
        "source_hash": "1a188ea2",
        "execution_millis": 0,
        "execution_start": 1618701951110,
        "deepnote_cell_type": "code"
      },
      "source": "def ridge_regularization(X_train, y_train, alpha):\n    c = 1 /alpha\n    logreg = LogisticRegression(C = c) # regular logistic regression, no regularization\n    logreg.fit(X_train, y_train)\n    return logreg.coef_, logreg.intercept_, logreg.score(X_train, y_train)",
      "execution_count": null,
      "outputs": []
    },
    {
      "cell_type": "code",
      "metadata": {
        "tags": [],
        "cell_id": "00011-70a2683a-2b8d-47e9-ae72-3b4fce556eb6",
        "deepnote_to_be_reexecuted": false,
        "source_hash": "5e40167d",
        "execution_millis": 84,
        "execution_start": 1618701958463,
        "deepnote_cell_type": "code"
      },
      "source": "data = get_clean_data(\"cleaned_data.csv\")\nX_train, y_train = preprocess_normalize_data(data)\ncoef, inter, score = ridge_regularization(X_train, y_train, 0.5)\n# print(\"Coefficients\", coef)\n# print(\"Intercept\", inter)\nprint(\"Score\", score)",
      "execution_count": null,
      "outputs": [
        {
          "name": "stdout",
          "text": "Score 0.7403367776502104\n/shared-libs/python3.7/py/lib/python3.7/site-packages/sklearn/preprocessing/_data.py:194: UserWarning: Numerical issues were encountered when centering the data and might not be solved. Dataset may contain too large values. You may need to prescale your features.\n  warnings.warn(\"Numerical issues were encountered \"\n/shared-libs/python3.7/py/lib/python3.7/site-packages/sklearn/utils/validation.py:63: DataConversionWarning: A column-vector y was passed when a 1d array was expected. Please change the shape of y to (n_samples, ), for example using ravel().\n  return f(*args, **kwargs)\n",
          "output_type": "stream"
        }
      ]
    },
    {
      "cell_type": "code",
      "metadata": {
        "tags": [],
        "cell_id": "00012-8cffd672-3449-4350-af2a-dbd65ef3abd9",
        "deepnote_to_be_reexecuted": false,
        "source_hash": "a94aea5",
        "execution_millis": 977,
        "execution_start": 1618701964915,
        "deepnote_cell_type": "code"
      },
      "source": "data = get_clean_data(\"cleaned_data.csv\")\nX_train, y_train = preprocess_normalize_data(data)\nridge_alpha_space = np.linspace(0,1,11)\nfor i in ridge_alpha_space:\n    coef, inter, score = ridge_regularization(X_train, y_train, i)\n    # print(\"Coefficients\", coef)\n    # print(\"Intercept\", inter)\n    print(\"Alpha\", i, \"Score\", score)",
      "execution_count": null,
      "outputs": [
        {
          "name": "stderr",
          "text": "/shared-libs/python3.7/py/lib/python3.7/site-packages/sklearn/preprocessing/_data.py:194: UserWarning: Numerical issues were encountered when centering the data and might not be solved. Dataset may contain too large values. You may need to prescale your features.\n  warnings.warn(\"Numerical issues were encountered \"\n/shared-libs/python3.7/py-core/lib/python3.7/site-packages/ipykernel_launcher.py:2: RuntimeWarning: divide by zero encountered in double_scalars\n  \n/shared-libs/python3.7/py/lib/python3.7/site-packages/sklearn/utils/validation.py:63: DataConversionWarning: A column-vector y was passed when a 1d array was expected. Please change the shape of y to (n_samples, ), for example using ravel().\n  return f(*args, **kwargs)\n/shared-libs/python3.7/py/lib/python3.7/site-packages/sklearn/utils/validation.py:63: DataConversionWarning: A column-vector y was passed when a 1d array was expected. Please change the shape of y to (n_samples, ), for example using ravel().\n  return f(*args, **kwargs)\n/shared-libs/python3.7/py/lib/python3.7/site-packages/sklearn/utils/validation.py:63: DataConversionWarning: A column-vector y was passed when a 1d array was expected. Please change the shape of y to (n_samples, ), for example using ravel().\n  return f(*args, **kwargs)\nAlpha 0.0 Score 0.7491389207807119\nAlpha 0.1 Score 0.7502870264064294\nAlpha 0.2 Score 0.7502870264064294\n/shared-libs/python3.7/py/lib/python3.7/site-packages/sklearn/utils/validation.py:63: DataConversionWarning: A column-vector y was passed when a 1d array was expected. Please change the shape of y to (n_samples, ), for example using ravel().\n  return f(*args, **kwargs)\n/shared-libs/python3.7/py/lib/python3.7/site-packages/sklearn/utils/validation.py:63: DataConversionWarning: A column-vector y was passed when a 1d array was expected. Please change the shape of y to (n_samples, ), for example using ravel().\n  return f(*args, **kwargs)\n/shared-libs/python3.7/py/lib/python3.7/site-packages/sklearn/utils/validation.py:63: DataConversionWarning: A column-vector y was passed when a 1d array was expected. Please change the shape of y to (n_samples, ), for example using ravel().\n  return f(*args, **kwargs)\nAlpha 0.30000000000000004 Score 0.7500956754688098\nAlpha 0.4 Score 0.7499043245311902\nAlpha 0.5 Score 0.7499043245311902\n/shared-libs/python3.7/py/lib/python3.7/site-packages/sklearn/utils/validation.py:63: DataConversionWarning: A column-vector y was passed when a 1d array was expected. Please change the shape of y to (n_samples, ), for example using ravel().\n  return f(*args, **kwargs)\n/shared-libs/python3.7/py/lib/python3.7/site-packages/sklearn/utils/validation.py:63: DataConversionWarning: A column-vector y was passed when a 1d array was expected. Please change the shape of y to (n_samples, ), for example using ravel().\n  return f(*args, **kwargs)\nAlpha 0.6000000000000001 Score 0.7493302717183314\nAlpha 0.7000000000000001 Score 0.7481821660926139\n/shared-libs/python3.7/py/lib/python3.7/site-packages/sklearn/utils/validation.py:63: DataConversionWarning: A column-vector y was passed when a 1d array was expected. Please change the shape of y to (n_samples, ), for example using ravel().\n  return f(*args, **kwargs)\n/shared-libs/python3.7/py/lib/python3.7/site-packages/sklearn/utils/validation.py:63: DataConversionWarning: A column-vector y was passed when a 1d array was expected. Please change the shape of y to (n_samples, ), for example using ravel().\n  return f(*args, **kwargs)\n/shared-libs/python3.7/py/lib/python3.7/site-packages/sklearn/utils/validation.py:63: DataConversionWarning: A column-vector y was passed when a 1d array was expected. Please change the shape of y to (n_samples, ), for example using ravel().\n  return f(*args, **kwargs)\nAlpha 0.8 Score 0.7477994642173746\nAlpha 0.9 Score 0.7479908151549942\nAlpha 1.0 Score 0.7479908151549942\n",
          "output_type": "stream"
        }
      ]
    },
    {
      "cell_type": "markdown",
      "source": "# Lasso Regularization",
      "metadata": {
        "tags": [],
        "cell_id": "00013-00973f0a-cd6e-4f97-9338-00b82d404ce8",
        "deepnote_cell_type": "text-cell-h1"
      }
    },
    {
      "cell_type": "code",
      "metadata": {
        "tags": [],
        "cell_id": "00013-a87a1ede-5ba3-4ffe-bef6-78f07d5d5fe2",
        "deepnote_to_be_reexecuted": false,
        "source_hash": "bea398df",
        "execution_millis": 3,
        "execution_start": 1618927940143,
        "deepnote_cell_type": "code"
      },
      "source": "def lasso_regularization(X_train, y_train, alpha):\n    c = 1 /alpha\n    logreg = LogisticRegression(C = c, penalty = 'l1', solver='liblinear') # regular logistic regression, no regularization\n    logreg.fit(X_train, y_train)\n    return logreg.coef_, logreg.intercept_, logreg.score(X_train, y_train)",
      "outputs": [],
      "execution_count": null
    },
    {
      "cell_type": "code",
      "source": "data = get_clean_data(\"cleaned_data.csv\")\nX_train, y_train = preprocess_normalize_data(data)\ncoef, inter, score = lasso_regularization(X_train, y_train, 0.5)\n# print(\"Coefficients\", coef)\n# print(\"Intercept\", inter)\nprint(\"Score\", score)",
      "metadata": {
        "tags": [],
        "cell_id": "00015-9bf7b6ec-fe8c-4b5d-a013-14f5fb8c65f2",
        "deepnote_to_be_reexecuted": false,
        "source_hash": "33aca4ff",
        "execution_millis": 307,
        "execution_start": 1618927940739,
        "deepnote_cell_type": "code"
      },
      "outputs": [
        {
          "name": "stdout",
          "text": "Score 0.7455032529659396\n/shared-libs/python3.7/py/lib/python3.7/site-packages/sklearn/preprocessing/_data.py:194: UserWarning: Numerical issues were encountered when centering the data and might not be solved. Dataset may contain too large values. You may need to prescale your features.\n  warnings.warn(\"Numerical issues were encountered \"\n/shared-libs/python3.7/py/lib/python3.7/site-packages/sklearn/utils/validation.py:63: DataConversionWarning: A column-vector y was passed when a 1d array was expected. Please change the shape of y to (n_samples, ), for example using ravel().\n  return f(*args, **kwargs)\n",
          "output_type": "stream"
        }
      ],
      "execution_count": null
    },
    {
      "cell_type": "code",
      "source": "data = get_clean_data(\"cleaned_data.csv\")\nX_train, y_train = preprocess_normalize_data(data)\nridge_alpha_space = np.linspace(0,1,11)\nfor i in ridge_alpha_space:\n    coef, inter, score = lasso_regularization(X_train, y_train, i)\n    # print(\"Coefficients\", coef)\n    # print(\"Intercept\", inter)\n    print(\"Alpha\", i, \"Score\", score)",
      "metadata": {
        "tags": [],
        "cell_id": "00016-3bfaca11-b5ea-4f3a-8edf-14e93a5f3fe4",
        "deepnote_to_be_reexecuted": false,
        "source_hash": "eb9ff4cd",
        "execution_start": 1618928321814,
        "execution_millis": 887,
        "deepnote_cell_type": "code"
      },
      "outputs": [
        {
          "name": "stderr",
          "text": "/shared-libs/python3.7/py/lib/python3.7/site-packages/sklearn/preprocessing/_data.py:194: UserWarning: Numerical issues were encountered when centering the data and might not be solved. Dataset may contain too large values. You may need to prescale your features.\n  warnings.warn(\"Numerical issues were encountered \"\n/shared-libs/python3.7/py-core/lib/python3.7/site-packages/ipykernel_launcher.py:2: RuntimeWarning: divide by zero encountered in double_scalars\n  \n/shared-libs/python3.7/py/lib/python3.7/site-packages/sklearn/utils/validation.py:63: DataConversionWarning: A column-vector y was passed when a 1d array was expected. Please change the shape of y to (n_samples, ), for example using ravel().\n  return f(*args, **kwargs)\n/shared-libs/python3.7/py/lib/python3.7/site-packages/sklearn/utils/validation.py:63: DataConversionWarning: A column-vector y was passed when a 1d array was expected. Please change the shape of y to (n_samples, ), for example using ravel().\n  return f(*args, **kwargs)\n/shared-libs/python3.7/py/lib/python3.7/site-packages/sklearn/utils/validation.py:63: DataConversionWarning: A column-vector y was passed when a 1d array was expected. Please change the shape of y to (n_samples, ), for example using ravel().\n  return f(*args, **kwargs)\n/shared-libs/python3.7/py/lib/python3.7/site-packages/sklearn/utils/validation.py:63: DataConversionWarning: A column-vector y was passed when a 1d array was expected. Please change the shape of y to (n_samples, ), for example using ravel().\n  return f(*args, **kwargs)\nAlpha 0.0 Score 0.58017604286261\nAlpha 0.1 Score 0.7298124760811328\nAlpha 0.2 Score 0.7296211251435132\nAlpha 0.30000000000000004 Score 0.7290470723306545\nAlpha 0.4 Score 0.7288557213930348\nAlpha 0.5 Score 0.7288557213930348\n/shared-libs/python3.7/py/lib/python3.7/site-packages/sklearn/utils/validation.py:63: DataConversionWarning: A column-vector y was passed when a 1d array was expected. Please change the shape of y to (n_samples, ), for example using ravel().\n  return f(*args, **kwargs)\n/shared-libs/python3.7/py/lib/python3.7/site-packages/sklearn/utils/validation.py:63: DataConversionWarning: A column-vector y was passed when a 1d array was expected. Please change the shape of y to (n_samples, ), for example using ravel().\n  return f(*args, **kwargs)\n/shared-libs/python3.7/py/lib/python3.7/site-packages/sklearn/utils/validation.py:63: DataConversionWarning: A column-vector y was passed when a 1d array was expected. Please change the shape of y to (n_samples, ), for example using ravel().\n  return f(*args, **kwargs)\nAlpha 0.6000000000000001 Score 0.7286643704554152\nAlpha 0.7000000000000001 Score 0.7282816685801761\nAlpha 0.8 Score 0.7280903176425565\nAlpha 0.9 Score 0.7277076157673172\n/shared-libs/python3.7/py/lib/python3.7/site-packages/sklearn/utils/validation.py:63: DataConversionWarning: A column-vector y was passed when a 1d array was expected. Please change the shape of y to (n_samples, ), for example using ravel().\n  return f(*args, **kwargs)\n/shared-libs/python3.7/py/lib/python3.7/site-packages/sklearn/utils/validation.py:63: DataConversionWarning: A column-vector y was passed when a 1d array was expected. Please change the shape of y to (n_samples, ), for example using ravel().\n  return f(*args, **kwargs)\n/shared-libs/python3.7/py/lib/python3.7/site-packages/sklearn/utils/validation.py:63: DataConversionWarning: A column-vector y was passed when a 1d array was expected. Please change the shape of y to (n_samples, ), for example using ravel().\n  return f(*args, **kwargs)\n/shared-libs/python3.7/py/lib/python3.7/site-packages/sklearn/utils/validation.py:63: DataConversionWarning: A column-vector y was passed when a 1d array was expected. Please change the shape of y to (n_samples, ), for example using ravel().\n  return f(*args, **kwargs)\nAlpha 1.0 Score 0.7277076157673172\n",
          "output_type": "stream"
        }
      ],
      "execution_count": null
    },
    {
      "cell_type": "markdown",
      "source": "<a style='text-decoration:none;line-height:16px;display:flex;color:#5B5B62;padding:10px;justify-content:end;' href='https://deepnote.com?utm_source=created-in-deepnote-cell&projectId=90fab6ac-739b-4c97-b68c-ff3c09208031' target=\"_blank\">\n<img alt='Created in deepnote.com' style='display:inline;max-height:16px;margin:0px;margin-right:7.5px;' src='data:image/svg+xml;base64,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' > </img>\nCreated in <span style='font-weight:600;margin-left:4px;'>Deepnote</span></a>",
      "metadata": {
        "tags": [],
        "created_in_deepnote_cell": true,
        "deepnote_cell_type": "markdown"
      }
    }
  ],
  "nbformat": 4,
  "nbformat_minor": 2,
  "metadata": {
    "orig_nbformat": 2,
    "deepnote": {
      "is_reactive": false
    },
    "deepnote_notebook_id": "0b258000-eb1b-40a8-8671-430554d08af5",
    "deepnote_execution_queue": []
  }
}