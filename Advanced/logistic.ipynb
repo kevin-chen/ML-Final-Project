{
  "cells": [
    {
      "cell_type": "code",
      "metadata": {
        "tags": [],
        "cell_id": "00000-32543db6-9f09-46e6-8854-fa49baf98abd",
        "deepnote_to_be_reexecuted": false,
        "source_hash": "1cf64736",
        "execution_millis": 1255,
        "execution_start": 1619297311210,
        "deepnote_cell_type": "code"
      },
      "source": "# Start writing code here...%matplotlib inline\n\nimport pandas as pd\nimport numpy as np\nimport matplotlib\nfrom matplotlib import pyplot as plt\n\nfrom sklearn import preprocessing\nfrom sklearn.model_selection import train_test_split \nfrom sklearn.linear_model import LogisticRegression, Ridge\nfrom sklearn.metrics import accuracy_score, precision_recall_fscore_support, f1_score\n\n\nimport numpy.polynomial.polynomial as poly",
      "execution_count": 2,
      "outputs": []
    },
    {
      "cell_type": "code",
      "metadata": {
        "tags": [],
        "cell_id": "00001-611c43ae-baea-44cc-bae4-9a34f2696259",
        "deepnote_to_be_reexecuted": false,
        "source_hash": "f8a9e25",
        "execution_millis": 7,
        "execution_start": 1619297316558,
        "deepnote_cell_type": "code"
      },
      "source": "def get_clean_data(file):\n    # Reads panadas dataframe\n    df = pd.read_csv(file)\n    # Convert datetime to a number\n    df['SALE DATE'] = pd.to_datetime(df['SALE DATE']).astype(np.int64)\n    # Drop other unneeded columns\n    data = df.drop(columns = [\"NEIGHBORHOOD\", \"APARTMENT NUMBER\", \"BUILDING CLASS CATEGORY\", \"TAX CLASS AT PRESENT\", \"BUILDING CLASS AT PRESENT\", \"EASE-MENT\", \"ADDRESS\", \"ZIP CODE\", \"BUILDING CLASS AT TIME OF SALE\", \"TOTAL UNITS\"])\n    # Drop other boroughs\n    # data = data[(data['BOROUGH'] != 1) & (data['BOROUGH'] != 2) & (data['BOROUGH'] != 5)]\n    data = data[(data['BOROUGH'] == 3) | (data['BOROUGH'] == 4)]\n    # Convert all other strings to int values\n    data = data.astype(int)\n    # print(x.info())\n    return data",
      "execution_count": 4,
      "outputs": []
    },
    {
      "cell_type": "code",
      "metadata": {
        "tags": [],
        "cell_id": "00002-9cccf013-130e-4c0c-81f5-d1b0c2280d98",
        "deepnote_to_be_reexecuted": false,
        "source_hash": "279ed88a",
        "execution_millis": 7,
        "execution_start": 1619297317378,
        "deepnote_cell_type": "code"
      },
      "source": "def preprocess_normalize_data(df):\n    df_x_prescale = df[[\"BLOCK\",\"LOT\",\"RESIDENTIAL UNITS\",\"COMMERCIAL UNITS\",\"LAND SQUARE FEET\", \"GROSS SQUARE FEET\",\"YEAR BUILT\",\"TAX CLASS AT TIME OF SALE\",\"SALE PRICE\", \"SALE DATE\"]]\n    df_y = df[[\"BOROUGH\"]]\n    # print(df_x_prescale)\n\n    x_scaled_array = preprocessing.scale(df_x_prescale)\n    y_array = np.array(df_y)\n\n    df_z_scaled = df_x_prescale.copy()\n    # print(df_z_scaled)\n    # apply normalization technique to Sale Date\n    column = 'SALE DATE'\n    df_z_scaled[column] = (df_z_scaled[column] - df_z_scaled[column].mean()) / df_z_scaled[column].std()\n    # print(df_z_scaled)\n    \n    X_train, X_test, y_train, y_test = train_test_split(x_scaled_array, y_array, test_size = 0.8, train_size = 0.2)\n    return X_train, X_test, y_train, y_test",
      "execution_count": 5,
      "outputs": []
    },
    {
      "cell_type": "markdown",
      "source": "### Logistic Regression Normal",
      "metadata": {
        "tags": [],
        "cell_id": "00003-0dcc88d5-748f-4cc0-bf12-87131206743c",
        "deepnote_cell_type": "text-cell-h3"
      }
    },
    {
      "cell_type": "code",
      "metadata": {
        "tags": [],
        "cell_id": "00003-cedf663b-1e72-4387-9184-022c34503741",
        "deepnote_to_be_reexecuted": false,
        "source_hash": "1d4ae788",
        "execution_millis": 1329,
        "execution_start": 1619297320569,
        "deepnote_cell_type": "code"
      },
      "source": "data = get_clean_data(\"cleaned_data.csv\")\nX_train, X_test, y_train, y_test = preprocess_normalize_data(data)\n\n#Running Logistic Regression (without regularization)\nlogreg = LogisticRegression(C = 100000000) # regular logistic regression, no regularization\nlogreg.fit(X_train, y_train)\nyhat_test = logreg.predict(X_test)\naccuracy_test = np.mean(yhat_test == y_test)\n#logreg.coef_, logreg.intercept_, \naccuracy_train = logreg.score(X_train, y_train)\n\nprint(accuracy_train, accuracy_test)\n\n\n\n",
      "execution_count": 6,
      "outputs": [
        {
          "name": "stderr",
          "text": "/shared-libs/python3.7/py/lib/python3.7/site-packages/sklearn/preprocessing/_data.py:194: UserWarning: Numerical issues were encountered when centering the data and might not be solved. Dataset may contain too large values. You may need to prescale your features.\n  warnings.warn(\"Numerical issues were encountered \"\n/shared-libs/python3.7/py/lib/python3.7/site-packages/sklearn/utils/validation.py:63: DataConversionWarning: A column-vector y was passed when a 1d array was expected. Please change the shape of y to (n_samples, ), for example using ravel().\n  return f(*args, **kwargs)\n0.7617680826636051 0.516178120924345\n",
          "output_type": "stream"
        }
      ]
    },
    {
      "cell_type": "markdown",
      "source": "### Logistic Regression F1 Score",
      "metadata": {
        "tags": [],
        "cell_id": "00008-d1fa2889-11d1-40b2-aa31-e918326621ec",
        "deepnote_cell_type": "text-cell-h3"
      }
    },
    {
      "cell_type": "code",
      "metadata": {
        "tags": [],
        "cell_id": "00009-1e752ec3-7839-4e8e-8b3e-c42b5dd03c45",
        "deepnote_to_be_reexecuted": false,
        "source_hash": "136340dc",
        "execution_millis": 27,
        "execution_start": 1619297324326,
        "deepnote_cell_type": "code"
      },
      "source": "f1_score_logistic_regression = f1_score(y_test, yhat_test,labels=[3,4], pos_label=3, average='binary')\nprint(\"F1 Score:\", f1_score_logistic_regression)\n",
      "execution_count": 7,
      "outputs": [
        {
          "name": "stdout",
          "text": "F1 Score: 0.7973416541719011\n",
          "output_type": "stream"
        }
      ]
    },
    {
      "cell_type": "markdown",
      "source": "### Logistic Regression with Ridge Regularization",
      "metadata": {
        "tags": [],
        "cell_id": "00004-4bd96953-70e9-4313-a26b-f0417bdd1820",
        "deepnote_cell_type": "text-cell-h3"
      }
    },
    {
      "cell_type": "code",
      "metadata": {
        "tags": [],
        "cell_id": "00004-e3f051cc-520d-4f99-85f8-c54da4e147dd",
        "deepnote_to_be_reexecuted": false,
        "source_hash": "73cf71e9",
        "execution_millis": 10885,
        "execution_start": 1619297410501,
        "deepnote_cell_type": "code"
      },
      "source": "alpha_values = [10**i for i in range(-5,6)]\nridge_train_reg_acc = [] \nridge_test_reg_acc = []\nfor alpha in alpha_values: \n    logreg = LogisticRegression(C = alpha)\n    logreg.fit(X_train, y_train)\n    yhat_test = logreg.predict(X_test)\n    accuracy_test = np.mean(yhat_test == y_test)\n    ridge_test_reg_acc.append(accuracy_test)\n    #logreg.coef_, logreg.intercept_, \n    accuracy_train = logreg.score(X_train, y_train)\n    ridge_train_reg_acc.append(accuracy_train)\n    #print(\"Train accuracy, \\tc = \",alpha, \"\\tAccuracy: \",accuracy_train)\n    #print(\"Test accuracy, \\tc = \",alpha, \"\\tAccuracy: \", accuracy_test)\n\nplt.plot(alpha_values, ridge_train_reg_acc, alpha_values, ridge_test_reg_acc)\nplt.grid()\nplt.xlabel('c values')\nplt.ylabel('accuracy')\nplt.legend(['Train', 'Test'], loc = 'center right')\nplt.title('Logistic Regression Ridge Regularization')\nprint(alpha_values)\nprint(ridge_train_reg_acc, ridge_test_reg_acc)",
      "execution_count": 11,
      "outputs": [
        {
          "name": "stderr",
          "text": "/shared-libs/python3.7/py/lib/python3.7/site-packages/sklearn/utils/validation.py:63: DataConversionWarning: A column-vector y was passed when a 1d array was expected. Please change the shape of y to (n_samples, ), for example using ravel().\n  return f(*args, **kwargs)\n/shared-libs/python3.7/py/lib/python3.7/site-packages/sklearn/utils/validation.py:63: DataConversionWarning: A column-vector y was passed when a 1d array was expected. Please change the shape of y to (n_samples, ), for example using ravel().\n  return f(*args, **kwargs)\n/shared-libs/python3.7/py/lib/python3.7/site-packages/sklearn/utils/validation.py:63: DataConversionWarning: A column-vector y was passed when a 1d array was expected. Please change the shape of y to (n_samples, ), for example using ravel().\n  return f(*args, **kwargs)\n/shared-libs/python3.7/py/lib/python3.7/site-packages/sklearn/utils/validation.py:63: DataConversionWarning: A column-vector y was passed when a 1d array was expected. Please change the shape of y to (n_samples, ), for example using ravel().\n  return f(*args, **kwargs)\n/shared-libs/python3.7/py/lib/python3.7/site-packages/sklearn/utils/validation.py:63: DataConversionWarning: A column-vector y was passed when a 1d array was expected. Please change the shape of y to (n_samples, ), for example using ravel().\n  return f(*args, **kwargs)\n/shared-libs/python3.7/py/lib/python3.7/site-packages/sklearn/utils/validation.py:63: DataConversionWarning: A column-vector y was passed when a 1d array was expected. Please change the shape of y to (n_samples, ), for example using ravel().\n  return f(*args, **kwargs)\n/shared-libs/python3.7/py/lib/python3.7/site-packages/sklearn/utils/validation.py:63: DataConversionWarning: A column-vector y was passed when a 1d array was expected. Please change the shape of y to (n_samples, ), for example using ravel().\n  return f(*args, **kwargs)\n/shared-libs/python3.7/py/lib/python3.7/site-packages/sklearn/utils/validation.py:63: DataConversionWarning: A column-vector y was passed when a 1d array was expected. Please change the shape of y to (n_samples, ), for example using ravel().\n  return f(*args, **kwargs)\n/shared-libs/python3.7/py/lib/python3.7/site-packages/sklearn/utils/validation.py:63: DataConversionWarning: A column-vector y was passed when a 1d array was expected. Please change the shape of y to (n_samples, ), for example using ravel().\n  return f(*args, **kwargs)\n/shared-libs/python3.7/py/lib/python3.7/site-packages/sklearn/utils/validation.py:63: DataConversionWarning: A column-vector y was passed when a 1d array was expected. Please change the shape of y to (n_samples, ), for example using ravel().\n  return f(*args, **kwargs)\n/shared-libs/python3.7/py/lib/python3.7/site-packages/sklearn/utils/validation.py:63: DataConversionWarning: A column-vector y was passed when a 1d array was expected. Please change the shape of y to (n_samples, ), for example using ravel().\n  return f(*args, **kwargs)\n[1e-05, 0.0001, 0.001, 0.01, 0.1, 1, 10, 100, 1000, 10000, 100000]\n[0.5970149253731343, 0.5970149253731343, 0.7621507845388442, 0.7405281285878301, 0.7458859548411787, 0.7587064676616916, 0.7623421354764638, 0.7617680826636051, 0.7617680826636051, 0.7617680826636051, 0.7617680826636051] [0.5842261335374019, 0.5842180767042723, 0.5322998440167825, 0.5210766754671746, 0.5186596255282785, 0.5168146107415877, 0.5163473144200678, 0.5161942345906043, 0.5161861777574747, 0.5161861777574747, 0.516178120924345]\n",
          "output_type": "stream"
        },
        {
          "data": {
            "text/plain": "<Figure size 432x288 with 1 Axes>",
            "image/png": "[encoded data removed]"
          },
          "metadata": {
            "needs_background": "light"
          },
          "output_type": "display_data"
        }
      ]
    },
    {
      "cell_type": "markdown",
      "source": "### Logistic Regression Lasso Regularization",
      "metadata": {
        "tags": [],
        "cell_id": "00007-c4c9af99-f9ea-4550-a603-bc08e60fabfb",
        "deepnote_cell_type": "text-cell-h3"
      }
    },
    {
      "cell_type": "code",
      "metadata": {
        "tags": [],
        "cell_id": "00007-78059801-f091-4d88-95cd-81e447017362",
        "deepnote_to_be_reexecuted": false,
        "source_hash": "ba9f2f8c",
        "execution_millis": 10578,
        "execution_start": 1619297399920,
        "deepnote_cell_type": "code"
      },
      "source": "alpha_values = [10**i for i in range(-5,6)]\nlasso_train_reg_acc = [] \nlasso_test_reg_acc = []\nfor alpha in alpha_values: \n    logreg = LogisticRegression(C = alpha, penalty = 'l1', solver='liblinear') # regular logistic regression, no regularization\n    logreg.fit(X_train, y_train)\n    yhat_test = logreg.predict(X_test)\n    accuracy_test = np.mean(yhat_test == y_test)\n    lasso_test_reg_acc.append(accuracy_test)\n    #logreg.coef_, logreg.intercept_, \n    accuracy_train = logreg.score(X_train, y_train)\n    lasso_train_reg_acc.append(accuracy_train)\n    #print(\"Train accuracy, \\tc = \",alpha, \"\\tAccuracy: \",accuracy_train)\n    #print(\"Test accuracy, \\tc = \",alpha, \"\\tAccuracy: \", accuracy_test)\n\nplt.plot(alpha_values, lasso_train_reg_acc, alpha_values, lasso_test_reg_acc)\nplt.grid()\nplt.xlabel('c values')\nplt.ylabel('accuracy')\nplt.legend(['Train', 'Test'], loc = 'center right')\nplt.title('Logistic Regression Lasso Regularization')\nprint(alpha_values)\nprint(lasso_train_reg_acc, ridge_test_reg_acc)",
      "execution_count": 10,
      "outputs": [
        {
          "name": "stderr",
          "text": "/shared-libs/python3.7/py/lib/python3.7/site-packages/sklearn/utils/validation.py:63: DataConversionWarning: A column-vector y was passed when a 1d array was expected. Please change the shape of y to (n_samples, ), for example using ravel().\n  return f(*args, **kwargs)\n/shared-libs/python3.7/py/lib/python3.7/site-packages/sklearn/utils/validation.py:63: DataConversionWarning: A column-vector y was passed when a 1d array was expected. Please change the shape of y to (n_samples, ), for example using ravel().\n  return f(*args, **kwargs)\n/shared-libs/python3.7/py/lib/python3.7/site-packages/sklearn/utils/validation.py:63: DataConversionWarning: A column-vector y was passed when a 1d array was expected. Please change the shape of y to (n_samples, ), for example using ravel().\n  return f(*args, **kwargs)\n/shared-libs/python3.7/py/lib/python3.7/site-packages/sklearn/utils/validation.py:63: DataConversionWarning: A column-vector y was passed when a 1d array was expected. Please change the shape of y to (n_samples, ), for example using ravel().\n  return f(*args, **kwargs)\n/shared-libs/python3.7/py/lib/python3.7/site-packages/sklearn/utils/validation.py:63: DataConversionWarning: A column-vector y was passed when a 1d array was expected. Please change the shape of y to (n_samples, ), for example using ravel().\n  return f(*args, **kwargs)\n/shared-libs/python3.7/py/lib/python3.7/site-packages/sklearn/utils/validation.py:63: DataConversionWarning: A column-vector y was passed when a 1d array was expected. Please change the shape of y to (n_samples, ), for example using ravel().\n  return f(*args, **kwargs)\n/shared-libs/python3.7/py/lib/python3.7/site-packages/sklearn/utils/validation.py:63: DataConversionWarning: A column-vector y was passed when a 1d array was expected. Please change the shape of y to (n_samples, ), for example using ravel().\n  return f(*args, **kwargs)\n/shared-libs/python3.7/py/lib/python3.7/site-packages/sklearn/utils/validation.py:63: DataConversionWarning: A column-vector y was passed when a 1d array was expected. Please change the shape of y to (n_samples, ), for example using ravel().\n  return f(*args, **kwargs)\n/shared-libs/python3.7/py/lib/python3.7/site-packages/sklearn/utils/validation.py:63: DataConversionWarning: A column-vector y was passed when a 1d array was expected. Please change the shape of y to (n_samples, ), for example using ravel().\n  return f(*args, **kwargs)\n/shared-libs/python3.7/py/lib/python3.7/site-packages/sklearn/utils/validation.py:63: DataConversionWarning: A column-vector y was passed when a 1d array was expected. Please change the shape of y to (n_samples, ), for example using ravel().\n  return f(*args, **kwargs)\n/shared-libs/python3.7/py/lib/python3.7/site-packages/sklearn/utils/validation.py:63: DataConversionWarning: A column-vector y was passed when a 1d array was expected. Please change the shape of y to (n_samples, ), for example using ravel().\n  return f(*args, **kwargs)\n[1e-05, 0.0001, 0.001, 0.01, 0.1, 1, 10, 100, 1000, 10000, 100000]\n[0.5970149253731343, 0.5970149253731343, 0.6519326444699579, 0.7234978951396862, 0.746268656716418, 0.7617680826636051, 0.7617680826636051, 0.7617680826636051, 0.7617680826636051, 0.7617680826636051, 0.7617680826636051] [0.5842261335374019, 0.5842180767042723, 0.5322998440167825, 0.5210766754671746, 0.5186596255282785, 0.5168146107415877, 0.5163473144200678, 0.5161942345906043, 0.5161861777574747, 0.5161861777574747, 0.516178120924345]\n",
          "output_type": "stream"
        },
        {
          "data": {
            "text/plain": "<Figure size 432x288 with 1 Axes>",
            "image/png": "[encoded data removed]"
          },
          "metadata": {
            "needs_background": "light"
          },
          "output_type": "display_data"
        }
      ]
    },
    {
      "cell_type": "markdown",
      "source": "### Logistic Regression Polynomial Transformation",
      "metadata": {
        "tags": [],
        "cell_id": "00011-7d80804b-59d0-42c3-b883-50e0b47e42e7",
        "deepnote_cell_type": "text-cell-h3"
      }
    },
    {
      "cell_type": "code",
      "metadata": {
        "tags": [],
        "cell_id": "00011-efa80e70-15f6-41bd-8617-8b37fb11d61f",
        "deepnote_to_be_reexecuted": true,
        "source_hash": "dd6cc3e9",
        "execution_millis": 323,
        "deepnote_cell_type": "code"
      },
      "source": "data = get_clean_data(\"cleaned_data.csv\")\nX_train, X_test, y_train, y_test = preprocess_normalize_data(data)\n\npoly_features = preprocessing.PolynomialFeatures(degree = 2, include_bias = False)\nX_poly_train = poly_features.fit_transform(X_train)\nX_poly_test = poly_features.fit_transform(X_test)",
      "execution_count": null,
      "outputs": [
        {
          "name": "stderr",
          "text": "/shared-libs/python3.7/py/lib/python3.7/site-packages/sklearn/preprocessing/_data.py:194: UserWarning: Numerical issues were encountered when centering the data and might not be solved. Dataset may contain too large values. You may need to prescale your features.\n  warnings.warn(\"Numerical issues were encountered \"\n",
          "output_type": "stream"
        }
      ]
    },
    {
      "cell_type": "code",
      "metadata": {
        "tags": [],
        "cell_id": "00012-9442b387-da42-4752-aa22-5ed9bdd053a8",
        "deepnote_to_be_reexecuted": true,
        "source_hash": "b3ea5450",
        "execution_millis": 867,
        "deepnote_cell_type": "code"
      },
      "source": "\nlogreg = LogisticRegression(C = 100000000) # regular logistic regression, no regularization\nlogreg.fit(X_poly_train, y_train)\nyhat_test = logreg.predict(X_poly_test)\naccuracy_test = np.mean(yhat_test == y_test)\n#logreg.coef_, logreg.intercept_, \naccuracy_train = logreg.score(X_poly_train, y_train)\n\nprint(accuracy_train, accuracy_test)",
      "execution_count": null,
      "outputs": [
        {
          "name": "stderr",
          "text": "/shared-libs/python3.7/py/lib/python3.7/site-packages/sklearn/utils/validation.py:63: DataConversionWarning: A column-vector y was passed when a 1d array was expected. Please change the shape of y to (n_samples, ), for example using ravel().\n  return f(*args, **kwargs)\n/shared-libs/python3.7/py/lib/python3.7/site-packages/sklearn/linear_model/_logistic.py:765: ConvergenceWarning: lbfgs failed to converge (status=1):\nSTOP: TOTAL NO. of ITERATIONS REACHED LIMIT.\n\nIncrease the number of iterations (max_iter) or scale the data as shown in:\n    https://scikit-learn.org/stable/modules/preprocessing.html\nPlease also refer to the documentation for alternative solver options:\n    https://scikit-learn.org/stable/modules/linear_model.html#logistic-regression\n  extra_warning_msg=_LOGISTIC_SOLVER_CONVERGENCE_MSG)\n0.8109452736318408 0.5205263127843248\n",
          "output_type": "stream"
        }
      ]
    },
    {
      "cell_type": "markdown",
      "source": "<a style='text-decoration:none;line-height:16px;display:flex;color:#5B5B62;padding:10px;justify-content:end;' href='https://deepnote.com?utm_source=created-in-deepnote-cell&projectId=47c5d483-7427-4b12-afc5-c21a2f7e3d4f' target=\"_blank\">\n<img alt='Created in deepnote.com' style='display:inline;max-height:16px;margin:0px;margin-right:7.5px;' src='data:image/svg+xml;base64,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' > </img>\nCreated in <span style='font-weight:600;margin-left:4px;'>Deepnote</span></a>",
      "metadata": {
        "tags": [],
        "created_in_deepnote_cell": true,
        "deepnote_cell_type": "markdown"
      }
    }
  ],
  "nbformat": 4,
  "nbformat_minor": 2,
  "metadata": {
    "orig_nbformat": 2,
    "deepnote": {
      "is_reactive": false
    },
    "deepnote_notebook_id": "f3093eda-db86-44fc-8eda-514ca8a2f31e",
    "deepnote_execution_queue": []
  }
}